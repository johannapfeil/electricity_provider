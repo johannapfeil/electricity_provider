{
 "cells": [
  {
   "cell_type": "markdown",
   "metadata": {},
   "source": [
    "# Modeling Churn: Random Forest Model"
   ]
  },
  {
   "cell_type": "markdown",
   "metadata": {},
   "source": [
    "**Import Packages**"
   ]
  },
  {
   "cell_type": "code",
   "execution_count": 1,
   "metadata": {},
   "outputs": [],
   "source": [
    "import pandas as pd\n",
    "import matplotlib.pyplot as plt\n",
    "import imageio.v3 as iio\n",
    "from functions import dummies, prepare_data, train_random_forest, train_random_forest_tuned, evaluate_model\n",
    "from functions import plot_importance, save_to_pickle, load_from_pickle"
   ]
  },
  {
   "cell_type": "code",
   "execution_count": 2,
   "metadata": {},
   "outputs": [
    {
     "data": {
      "text/html": [
       "<div>\n",
       "<style scoped>\n",
       "    .dataframe tbody tr th:only-of-type {\n",
       "        vertical-align: middle;\n",
       "    }\n",
       "\n",
       "    .dataframe tbody tr th {\n",
       "        vertical-align: top;\n",
       "    }\n",
       "\n",
       "    .dataframe thead th {\n",
       "        text-align: right;\n",
       "    }\n",
       "</style>\n",
       "<table border=\"1\" class=\"dataframe\">\n",
       "  <thead>\n",
       "    <tr style=\"text-align: right;\">\n",
       "      <th></th>\n",
       "      <th>id</th>\n",
       "      <th>channel_sales</th>\n",
       "      <th>tenure_years</th>\n",
       "      <th>months_to_end</th>\n",
       "      <th>months_since_modified</th>\n",
       "      <th>months_since_renewed</th>\n",
       "      <th>yearly_consumption</th>\n",
       "      <th>monthly_consumption</th>\n",
       "      <th>yearly_gas_consumption</th>\n",
       "      <th>yearly_forecast_consumption</th>\n",
       "      <th>...</th>\n",
       "      <th>avg_price_peak_var</th>\n",
       "      <th>avg_price_mid_peak_var</th>\n",
       "      <th>price_peak_off_peak_ratio_var</th>\n",
       "      <th>std_price_off_peak_var</th>\n",
       "      <th>std_price_peak_var</th>\n",
       "      <th>std_price_mid_peak_var</th>\n",
       "      <th>range_price_peak_var</th>\n",
       "      <th>range_price_off_peak_var</th>\n",
       "      <th>range_price_mid_peak_var</th>\n",
       "      <th>churn</th>\n",
       "    </tr>\n",
       "  </thead>\n",
       "  <tbody>\n",
       "    <tr>\n",
       "      <th>0</th>\n",
       "      <td>987e2767a9812e900db0041930d126cb</td>\n",
       "      <td>0</td>\n",
       "      <td>3</td>\n",
       "      <td>5</td>\n",
       "      <td>2</td>\n",
       "      <td>6</td>\n",
       "      <td>7502</td>\n",
       "      <td>0</td>\n",
       "      <td>0</td>\n",
       "      <td>276</td>\n",
       "      <td>...</td>\n",
       "      <td>0.000</td>\n",
       "      <td>0.000</td>\n",
       "      <td>0.000</td>\n",
       "      <td>0.002</td>\n",
       "      <td>0.000</td>\n",
       "      <td>0.000</td>\n",
       "      <td>0.000</td>\n",
       "      <td>0.004</td>\n",
       "      <td>0.000</td>\n",
       "      <td>0</td>\n",
       "    </tr>\n",
       "    <tr>\n",
       "      <th>1</th>\n",
       "      <td>5d5431b8305bb08ab589db356d2b54ef</td>\n",
       "      <td>0</td>\n",
       "      <td>3</td>\n",
       "      <td>9</td>\n",
       "      <td>24</td>\n",
       "      <td>2</td>\n",
       "      <td>27382</td>\n",
       "      <td>340</td>\n",
       "      <td>0</td>\n",
       "      <td>4061</td>\n",
       "      <td>...</td>\n",
       "      <td>0.000</td>\n",
       "      <td>0.000</td>\n",
       "      <td>0.000</td>\n",
       "      <td>0.002</td>\n",
       "      <td>0.000</td>\n",
       "      <td>0.000</td>\n",
       "      <td>0.000</td>\n",
       "      <td>0.004</td>\n",
       "      <td>0.000</td>\n",
       "      <td>0</td>\n",
       "    </tr>\n",
       "    <tr>\n",
       "      <th>2</th>\n",
       "      <td>17e84c1bc19211777dfbb1cca8af94fc</td>\n",
       "      <td>0</td>\n",
       "      <td>3</td>\n",
       "      <td>9</td>\n",
       "      <td>26</td>\n",
       "      <td>2</td>\n",
       "      <td>463646</td>\n",
       "      <td>40551</td>\n",
       "      <td>0</td>\n",
       "      <td>2859</td>\n",
       "      <td>...</td>\n",
       "      <td>0.102</td>\n",
       "      <td>0.072</td>\n",
       "      <td>0.836</td>\n",
       "      <td>0.004</td>\n",
       "      <td>0.002</td>\n",
       "      <td>0.001</td>\n",
       "      <td>0.004</td>\n",
       "      <td>0.008</td>\n",
       "      <td>0.003</td>\n",
       "      <td>0</td>\n",
       "    </tr>\n",
       "    <tr>\n",
       "      <th>3</th>\n",
       "      <td>dd490452dadf88529466072605d7ee82</td>\n",
       "      <td>0</td>\n",
       "      <td>3</td>\n",
       "      <td>5</td>\n",
       "      <td>2</td>\n",
       "      <td>6</td>\n",
       "      <td>3315</td>\n",
       "      <td>0</td>\n",
       "      <td>0</td>\n",
       "      <td>496</td>\n",
       "      <td>...</td>\n",
       "      <td>0.000</td>\n",
       "      <td>0.000</td>\n",
       "      <td>0.000</td>\n",
       "      <td>0.002</td>\n",
       "      <td>0.000</td>\n",
       "      <td>0.000</td>\n",
       "      <td>0.000</td>\n",
       "      <td>0.004</td>\n",
       "      <td>0.000</td>\n",
       "      <td>0</td>\n",
       "    </tr>\n",
       "    <tr>\n",
       "      <th>4</th>\n",
       "      <td>a33668b7d0d8d86f38ad983c0cad6095</td>\n",
       "      <td>0</td>\n",
       "      <td>3</td>\n",
       "      <td>12</td>\n",
       "      <td>11</td>\n",
       "      <td>0</td>\n",
       "      <td>63969</td>\n",
       "      <td>63969</td>\n",
       "      <td>7488</td>\n",
       "      <td>9683</td>\n",
       "      <td>...</td>\n",
       "      <td>0.114</td>\n",
       "      <td>0.069</td>\n",
       "      <td>0.655</td>\n",
       "      <td>0.014</td>\n",
       "      <td>0.056</td>\n",
       "      <td>0.049</td>\n",
       "      <td>0.152</td>\n",
       "      <td>0.044</td>\n",
       "      <td>0.104</td>\n",
       "      <td>0</td>\n",
       "    </tr>\n",
       "  </tbody>\n",
       "</table>\n",
       "<p>5 rows × 26 columns</p>\n",
       "</div>"
      ],
      "text/plain": [
       "                                 id  channel_sales  tenure_years  \\\n",
       "0  987e2767a9812e900db0041930d126cb              0             3   \n",
       "1  5d5431b8305bb08ab589db356d2b54ef              0             3   \n",
       "2  17e84c1bc19211777dfbb1cca8af94fc              0             3   \n",
       "3  dd490452dadf88529466072605d7ee82              0             3   \n",
       "4  a33668b7d0d8d86f38ad983c0cad6095              0             3   \n",
       "\n",
       "   months_to_end  months_since_modified  months_since_renewed  \\\n",
       "0              5                      2                     6   \n",
       "1              9                     24                     2   \n",
       "2              9                     26                     2   \n",
       "3              5                      2                     6   \n",
       "4             12                     11                     0   \n",
       "\n",
       "   yearly_consumption  monthly_consumption  yearly_gas_consumption  \\\n",
       "0                7502                    0                       0   \n",
       "1               27382                  340                       0   \n",
       "2              463646                40551                       0   \n",
       "3                3315                    0                       0   \n",
       "4               63969                63969                    7488   \n",
       "\n",
       "   yearly_forecast_consumption  ...  avg_price_peak_var  \\\n",
       "0                          276  ...               0.000   \n",
       "1                         4061  ...               0.000   \n",
       "2                         2859  ...               0.102   \n",
       "3                          496  ...               0.000   \n",
       "4                         9683  ...               0.114   \n",
       "\n",
       "   avg_price_mid_peak_var  price_peak_off_peak_ratio_var  \\\n",
       "0                   0.000                          0.000   \n",
       "1                   0.000                          0.000   \n",
       "2                   0.072                          0.836   \n",
       "3                   0.000                          0.000   \n",
       "4                   0.069                          0.655   \n",
       "\n",
       "   std_price_off_peak_var  std_price_peak_var  std_price_mid_peak_var  \\\n",
       "0                   0.002               0.000                   0.000   \n",
       "1                   0.002               0.000                   0.000   \n",
       "2                   0.004               0.002                   0.001   \n",
       "3                   0.002               0.000                   0.000   \n",
       "4                   0.014               0.056                   0.049   \n",
       "\n",
       "   range_price_peak_var  range_price_off_peak_var  range_price_mid_peak_var  \\\n",
       "0                 0.000                     0.004                     0.000   \n",
       "1                 0.000                     0.004                     0.000   \n",
       "2                 0.004                     0.008                     0.003   \n",
       "3                 0.000                     0.004                     0.000   \n",
       "4                 0.152                     0.044                     0.104   \n",
       "\n",
       "   churn  \n",
       "0      0  \n",
       "1      0  \n",
       "2      0  \n",
       "3      0  \n",
       "4      0  \n",
       "\n",
       "[5 rows x 26 columns]"
      ]
     },
     "execution_count": 2,
     "metadata": {},
     "output_type": "execute_result"
    }
   ],
   "source": [
    "# Load clean dataframe with engineered features\n",
    "df = pd.read_csv('../data/raw/describe_price.csv')\n",
    "df.to_pickle('../pickle/describe_price.pkl')\n",
    "df.head()"
   ]
  },
  {
   "cell_type": "code",
   "execution_count": 3,
   "metadata": {},
   "outputs": [
    {
     "data": {
      "text/html": [
       "<div>\n",
       "<style scoped>\n",
       "    .dataframe tbody tr th:only-of-type {\n",
       "        vertical-align: middle;\n",
       "    }\n",
       "\n",
       "    .dataframe tbody tr th {\n",
       "        vertical-align: top;\n",
       "    }\n",
       "\n",
       "    .dataframe thead th {\n",
       "        text-align: right;\n",
       "    }\n",
       "</style>\n",
       "<table border=\"1\" class=\"dataframe\">\n",
       "  <thead>\n",
       "    <tr style=\"text-align: right;\">\n",
       "      <th></th>\n",
       "      <th>id</th>\n",
       "      <th>tenure_years</th>\n",
       "      <th>months_to_end</th>\n",
       "      <th>months_since_modified</th>\n",
       "      <th>months_since_renewed</th>\n",
       "      <th>yearly_consumption</th>\n",
       "      <th>monthly_consumption</th>\n",
       "      <th>yearly_gas_consumption</th>\n",
       "      <th>yearly_forecast_consumption</th>\n",
       "      <th>yearly_forecast_meter_rent</th>\n",
       "      <th>...</th>\n",
       "      <th>std_price_mid_peak_var</th>\n",
       "      <th>range_price_peak_var</th>\n",
       "      <th>range_price_off_peak_var</th>\n",
       "      <th>range_price_mid_peak_var</th>\n",
       "      <th>churn</th>\n",
       "      <th>channel_sales_0</th>\n",
       "      <th>channel_sales_1</th>\n",
       "      <th>channel_sales_2</th>\n",
       "      <th>channel_sales_3</th>\n",
       "      <th>channel_sales_4</th>\n",
       "    </tr>\n",
       "  </thead>\n",
       "  <tbody>\n",
       "    <tr>\n",
       "      <th>0</th>\n",
       "      <td>987e2767a9812e900db0041930d126cb</td>\n",
       "      <td>3</td>\n",
       "      <td>5</td>\n",
       "      <td>2</td>\n",
       "      <td>6</td>\n",
       "      <td>7502</td>\n",
       "      <td>0</td>\n",
       "      <td>0</td>\n",
       "      <td>276</td>\n",
       "      <td>16.05</td>\n",
       "      <td>...</td>\n",
       "      <td>0.000</td>\n",
       "      <td>0.000</td>\n",
       "      <td>0.004</td>\n",
       "      <td>0.000</td>\n",
       "      <td>0</td>\n",
       "      <td>1</td>\n",
       "      <td>0</td>\n",
       "      <td>0</td>\n",
       "      <td>0</td>\n",
       "      <td>0</td>\n",
       "    </tr>\n",
       "    <tr>\n",
       "      <th>1</th>\n",
       "      <td>5d5431b8305bb08ab589db356d2b54ef</td>\n",
       "      <td>3</td>\n",
       "      <td>9</td>\n",
       "      <td>24</td>\n",
       "      <td>2</td>\n",
       "      <td>27382</td>\n",
       "      <td>340</td>\n",
       "      <td>0</td>\n",
       "      <td>4061</td>\n",
       "      <td>13.92</td>\n",
       "      <td>...</td>\n",
       "      <td>0.000</td>\n",
       "      <td>0.000</td>\n",
       "      <td>0.004</td>\n",
       "      <td>0.000</td>\n",
       "      <td>0</td>\n",
       "      <td>1</td>\n",
       "      <td>0</td>\n",
       "      <td>0</td>\n",
       "      <td>0</td>\n",
       "      <td>0</td>\n",
       "    </tr>\n",
       "    <tr>\n",
       "      <th>2</th>\n",
       "      <td>17e84c1bc19211777dfbb1cca8af94fc</td>\n",
       "      <td>3</td>\n",
       "      <td>9</td>\n",
       "      <td>26</td>\n",
       "      <td>2</td>\n",
       "      <td>463646</td>\n",
       "      <td>40551</td>\n",
       "      <td>0</td>\n",
       "      <td>2859</td>\n",
       "      <td>117.54</td>\n",
       "      <td>...</td>\n",
       "      <td>0.001</td>\n",
       "      <td>0.004</td>\n",
       "      <td>0.008</td>\n",
       "      <td>0.003</td>\n",
       "      <td>0</td>\n",
       "      <td>1</td>\n",
       "      <td>0</td>\n",
       "      <td>0</td>\n",
       "      <td>0</td>\n",
       "      <td>0</td>\n",
       "    </tr>\n",
       "    <tr>\n",
       "      <th>3</th>\n",
       "      <td>dd490452dadf88529466072605d7ee82</td>\n",
       "      <td>3</td>\n",
       "      <td>5</td>\n",
       "      <td>2</td>\n",
       "      <td>6</td>\n",
       "      <td>3315</td>\n",
       "      <td>0</td>\n",
       "      <td>0</td>\n",
       "      <td>496</td>\n",
       "      <td>19.84</td>\n",
       "      <td>...</td>\n",
       "      <td>0.000</td>\n",
       "      <td>0.000</td>\n",
       "      <td>0.004</td>\n",
       "      <td>0.000</td>\n",
       "      <td>0</td>\n",
       "      <td>1</td>\n",
       "      <td>0</td>\n",
       "      <td>0</td>\n",
       "      <td>0</td>\n",
       "      <td>0</td>\n",
       "    </tr>\n",
       "    <tr>\n",
       "      <th>4</th>\n",
       "      <td>a33668b7d0d8d86f38ad983c0cad6095</td>\n",
       "      <td>3</td>\n",
       "      <td>12</td>\n",
       "      <td>11</td>\n",
       "      <td>0</td>\n",
       "      <td>63969</td>\n",
       "      <td>63969</td>\n",
       "      <td>7488</td>\n",
       "      <td>9683</td>\n",
       "      <td>148.38</td>\n",
       "      <td>...</td>\n",
       "      <td>0.049</td>\n",
       "      <td>0.152</td>\n",
       "      <td>0.044</td>\n",
       "      <td>0.104</td>\n",
       "      <td>0</td>\n",
       "      <td>1</td>\n",
       "      <td>0</td>\n",
       "      <td>0</td>\n",
       "      <td>0</td>\n",
       "      <td>0</td>\n",
       "    </tr>\n",
       "  </tbody>\n",
       "</table>\n",
       "<p>5 rows × 30 columns</p>\n",
       "</div>"
      ],
      "text/plain": [
       "                                 id  tenure_years  months_to_end  \\\n",
       "0  987e2767a9812e900db0041930d126cb             3              5   \n",
       "1  5d5431b8305bb08ab589db356d2b54ef             3              9   \n",
       "2  17e84c1bc19211777dfbb1cca8af94fc             3              9   \n",
       "3  dd490452dadf88529466072605d7ee82             3              5   \n",
       "4  a33668b7d0d8d86f38ad983c0cad6095             3             12   \n",
       "\n",
       "   months_since_modified  months_since_renewed  yearly_consumption  \\\n",
       "0                      2                     6                7502   \n",
       "1                     24                     2               27382   \n",
       "2                     26                     2              463646   \n",
       "3                      2                     6                3315   \n",
       "4                     11                     0               63969   \n",
       "\n",
       "   monthly_consumption  yearly_gas_consumption  yearly_forecast_consumption  \\\n",
       "0                    0                       0                          276   \n",
       "1                  340                       0                         4061   \n",
       "2                40551                       0                         2859   \n",
       "3                    0                       0                          496   \n",
       "4                63969                    7488                         9683   \n",
       "\n",
       "   yearly_forecast_meter_rent  ...  std_price_mid_peak_var  \\\n",
       "0                       16.05  ...                   0.000   \n",
       "1                       13.92  ...                   0.000   \n",
       "2                      117.54  ...                   0.001   \n",
       "3                       19.84  ...                   0.000   \n",
       "4                      148.38  ...                   0.049   \n",
       "\n",
       "   range_price_peak_var  range_price_off_peak_var  range_price_mid_peak_var  \\\n",
       "0                 0.000                     0.004                     0.000   \n",
       "1                 0.000                     0.004                     0.000   \n",
       "2                 0.004                     0.008                     0.003   \n",
       "3                 0.000                     0.004                     0.000   \n",
       "4                 0.152                     0.044                     0.104   \n",
       "\n",
       "   churn  channel_sales_0  channel_sales_1  channel_sales_2  channel_sales_3  \\\n",
       "0      0                1                0                0                0   \n",
       "1      0                1                0                0                0   \n",
       "2      0                1                0                0                0   \n",
       "3      0                1                0                0                0   \n",
       "4      0                1                0                0                0   \n",
       "\n",
       "   channel_sales_4  \n",
       "0                0  \n",
       "1                0  \n",
       "2                0  \n",
       "3                0  \n",
       "4                0  \n",
       "\n",
       "[5 rows x 30 columns]"
      ]
     },
     "execution_count": 3,
     "metadata": {},
     "output_type": "execute_result"
    }
   ],
   "source": [
    "# Create dummies for channel sales\n",
    "df = dummies(df, ['channel_sales'])\n",
    "df.head()"
   ]
  },
  {
   "cell_type": "markdown",
   "metadata": {},
   "source": [
    "## Random Forest Model"
   ]
  },
  {
   "cell_type": "code",
   "execution_count": 4,
   "metadata": {},
   "outputs": [
    {
     "data": {
      "image/png": "[encoded data removed]",
      "text/plain": [
       "<Figure size 640x480 with 1 Axes>"
      ]
     },
     "metadata": {},
     "output_type": "display_data"
    }
   ],
   "source": [
    "image = iio.imread('../plots/Random-Forest-Algorithm.png')\n",
    "plt.imshow(image)\n",
    "plt.axis('off');"
   ]
  },
  {
   "cell_type": "markdown",
   "metadata": {},
   "source": [
    "**What is a Random Forest model?**\n",
    "\n",
    "The Random Forest is an ensemble machine learning algorithm used for classification and regression tasks. It builds multiple decision trees during training and combines their outputs to make more accurate and robust predictions.\n",
    "\n",
    "- Bagging: Trains each tree on a random subset of the data to reduce overfitting.\n",
    "- Feature Randomness: Considers random subsets of features at each split, thereby lowering the correlation between trees.\n",
    "- Ensemble Learning: Aggregates predictions (majority vote) from multiple trees to improve accuracy and stability.\n",
    "\n",
    "**Why do I use a Random Forest model?**\n",
    "\n",
    "Challenges with KNN:\n",
    "\n",
    "- Requires to scale all features equally, which may not capture feature importance effectively.\n",
    "- Computationally extensive for large datasets, as it requires to store the entire dataset and perform calculations for each prediction.\n",
    "- KNN struggles with highly nonlinear relationships and imbalanced datasets.\n",
    "\n",
    "Challenges with Logistic Regression:\n",
    "\n",
    "- Assumes a linear relationship between features and the log-odds of the target, which may oversimplify the churn behavior. \n",
    "- Needs transformation or interaction terms to capture nonlinear patterns (Feature Engineering).\n",
    "- Struggles with imbalanced datasets unless oversampling/undersampling techniques are applied.\n",
    "\n",
    "Motivation to use a Decision-Tree Model:\n",
    "- Decision trees model complex, nonlinear relationships between features and target without requiring extensive tuning or scaling.\n",
    "- Provide information on which features are most influential in predicting churn, which may be important for business insights.\n",
    "- Decision-tree-based models can handle missing data and outliers better than regression or KNN.\n",
    "- The class_weight parameter ensures that the minority class is given appropriate importance.\n",
    "\n",
    "Motivation to use a Random Forest Model:\n",
    "- Random Forest scales efficiently with large datasets and high-dimensional data due to its efficient training process.\n",
    "- Random Forest reduces overfitting compared to a single decision tree by averaging predictions across multiple trees.\n",
    "\n",
    "**Why do I use the StandardScaler?**\n",
    "- The StandardScaler is less sensitive to outliers and scales each column to a mean of 0 and a standard deviation of 1. \n",
    "- All features are treated on the same scale in terms of the standard deviation from the mean, which can be advantageous for consistent model training and feature importance interpretation. \n",
    "- The MinMaxScaler is useful for distance-based algorithms like KNN, but can distort scaling in the presence of outliers. \n",
    "- Without checking the metrics of all columns (minimum, maximum, normality) the StandardScaler is the safer options.\n"
   ]
  },
  {
   "cell_type": "code",
   "execution_count": 5,
   "metadata": {},
   "outputs": [],
   "source": [
    "# Prepare the data\n",
    "X_train, X_test, y_train, y_test, scaler = prepare_data(df, drop_columns = ['id'], target_column= \"churn\")\n",
    "\n",
    "# Train the model with the train data\n",
    "model = train_random_forest(X_train, y_train, n_estimators = 100, max_depth = 20)\n",
    "# 100 estimators\n",
    "# 20 tree depth"
   ]
  },
  {
   "cell_type": "code",
   "execution_count": 6,
   "metadata": {},
   "outputs": [
    {
     "data": {
      "application/vnd.plotly.v1+json": {
       "config": {
        "plotlyServerURL": "https://plot.ly"
       },
       "data": [
        {
         "alignmentgroup": "True",
         "hovertemplate": "color=Recall<br>Value=%{text}<br>Metric=%{y}<extra></extra>",
         "legendgroup": "Recall",
         "marker": {
          "color": "#84aaff",
          "pattern": {
           "shape": ""
          }
         },
         "name": "Recall",
         "offsetgroup": "Recall",
         "orientation": "h",
         "showlegend": true,
         "text": [
          0.1
         ],
         "textposition": "auto",
         "texttemplate": "%{x:.0%}",
         "type": "bar",
         "x": [
          0.1
         ],
         "xaxis": "x",
         "y": [
          "Recall"
         ],
         "yaxis": "y"
        },
        {
         "alignmentgroup": "True",
         "hovertemplate": "color=Precision<br>Value=%{text}<br>Metric=%{y}<extra></extra>",
         "legendgroup": "Precision",
         "marker": {
          "color": "#84aaff",
          "pattern": {
           "shape": ""
          }
         },
         "name": "Precision",
         "offsetgroup": "Precision",
         "orientation": "h",
         "showlegend": true,
         "text": [
          0.79
         ],
         "textposition": "auto",
         "texttemplate": "%{x:.0%}",
         "type": "bar",
         "x": [
          0.79
         ],
         "xaxis": "x",
         "y": [
          "Precision"
         ],
         "yaxis": "y"
        },
        {
         "alignmentgroup": "True",
         "hovertemplate": "color=Accuracy<br>Value=%{text}<br>Metric=%{y}<extra></extra>",
         "legendgroup": "Accuracy",
         "marker": {
          "color": "#84aaff",
          "pattern": {
           "shape": ""
          }
         },
         "name": "Accuracy",
         "offsetgroup": "Accuracy",
         "orientation": "h",
         "showlegend": true,
         "text": [
          0.91
         ],
         "textposition": "auto",
         "texttemplate": "%{x:.0%}",
         "type": "bar",
         "x": [
          0.91
         ],
         "xaxis": "x",
         "y": [
          "Accuracy"
         ],
         "yaxis": "y"
        }
       ],
       "layout": {
        "barmode": "relative",
        "height": 200,
        "legend": {
         "title": {
          "text": "color"
         },
         "tracegroupgap": 0
        },
        "margin": {
         "b": 30,
         "t": 40
        },
        "paper_bgcolor": "rgba(0,0,0,0)",
        "plot_bgcolor": "rgba(0,0,0,0)",
        "showlegend": false,
        "template": {
         "data": {
          "bar": [
           {
            "error_x": {
             "color": "#2a3f5f"
            },
            "error_y": {
             "color": "#2a3f5f"
            },
            "marker": {
             "line": {
              "color": "#E5ECF6",
              "width": 0.5
             },
             "pattern": {
              "fillmode": "overlay",
              "size": 10,
              "solidity": 0.2
             }
            },
            "type": "bar"
           }
          ],
          "barpolar": [
           {
            "marker": {
             "line": {
              "color": "#E5ECF6",
              "width": 0.5
             },
             "pattern": {
              "fillmode": "overlay",
              "size": 10,
              "solidity": 0.2
             }
            },
            "type": "barpolar"
           }
          ],
          "carpet": [
           {
            "aaxis": {
             "endlinecolor": "#2a3f5f",
             "gridcolor": "white",
             "linecolor": "white",
             "minorgridcolor": "white",
             "startlinecolor": "#2a3f5f"
            },
            "baxis": {
             "endlinecolor": "#2a3f5f",
             "gridcolor": "white",
             "linecolor": "white",
             "minorgridcolor": "white",
             "startlinecolor": "#2a3f5f"
            },
            "type": "carpet"
           }
          ],
          "choropleth": [
           {
            "colorbar": {
             "outlinewidth": 0,
             "ticks": ""
            },
            "type": "choropleth"
           }
          ],
          "contour": [
           {
            "colorbar": {
             "outlinewidth": 0,
             "ticks": ""
            },
            "colorscale": [
             [
              0,
              "#0d0887"
             ],
             [
              0.1111111111111111,
              "#46039f"
             ],
             [
              0.2222222222222222,
              "#7201a8"
             ],
             [
              0.3333333333333333,
              "#9c179e"
             ],
             [
              0.4444444444444444,
              "#bd3786"
             ],
             [
              0.5555555555555556,
              "#d8576b"
             ],
             [
              0.6666666666666666,
              "#ed7953"
             ],
             [
              0.7777777777777778,
              "#fb9f3a"
             ],
             [
              0.8888888888888888,
              "#fdca26"
             ],
             [
              1,
              "#f0f921"
             ]
            ],
            "type": "contour"
           }
          ],
          "contourcarpet": [
           {
            "colorbar": {
             "outlinewidth": 0,
             "ticks": ""
            },
            "type": "contourcarpet"
           }
          ],
          "heatmap": [
           {
            "colorbar": {
             "outlinewidth": 0,
             "ticks": ""
            },
            "colorscale": [
             [
              0,
              "#0d0887"
             ],
             [
              0.1111111111111111,
              "#46039f"
             ],
             [
              0.2222222222222222,
              "#7201a8"
             ],
             [
              0.3333333333333333,
              "#9c179e"
             ],
             [
              0.4444444444444444,
              "#bd3786"
             ],
             [
              0.5555555555555556,
              "#d8576b"
             ],
             [
              0.6666666666666666,
              "#ed7953"
             ],
             [
              0.7777777777777778,
              "#fb9f3a"
             ],
             [
              0.8888888888888888,
              "#fdca26"
             ],
             [
              1,
              "#f0f921"
             ]
            ],
            "type": "heatmap"
           }
          ],
          "heatmapgl": [
           {
            "colorbar": {
             "outlinewidth": 0,
             "ticks": ""
            },
            "colorscale": [
             [
              0,
              "#0d0887"
             ],
             [
              0.1111111111111111,
              "#46039f"
             ],
             [
              0.2222222222222222,
              "#7201a8"
             ],
             [
              0.3333333333333333,
              "#9c179e"
             ],
             [
              0.4444444444444444,
              "#bd3786"
             ],
             [
              0.5555555555555556,
              "#d8576b"
             ],
             [
              0.6666666666666666,
              "#ed7953"
             ],
             [
              0.7777777777777778,
              "#fb9f3a"
             ],
             [
              0.8888888888888888,
              "#fdca26"
             ],
             [
              1,
              "#f0f921"
             ]
            ],
            "type": "heatmapgl"
           }
          ],
          "histogram": [
           {
            "marker": {
             "pattern": {
              "fillmode": "overlay",
              "size": 10,
              "solidity": 0.2
             }
            },
            "type": "histogram"
           }
          ],
          "histogram2d": [
           {
            "colorbar": {
             "outlinewidth": 0,
             "ticks": ""
            },
            "colorscale": [
             [
              0,
              "#0d0887"
             ],
             [
              0.1111111111111111,
              "#46039f"
             ],
             [
              0.2222222222222222,
              "#7201a8"
             ],
             [
              0.3333333333333333,
              "#9c179e"
             ],
             [
              0.4444444444444444,
              "#bd3786"
             ],
             [
              0.5555555555555556,
              "#d8576b"
             ],
             [
              0.6666666666666666,
              "#ed7953"
             ],
             [
              0.7777777777777778,
              "#fb9f3a"
             ],
             [
              0.8888888888888888,
              "#fdca26"
             ],
             [
              1,
              "#f0f921"
             ]
            ],
            "type": "histogram2d"
           }
          ],
          "histogram2dcontour": [
           {
            "colorbar": {
             "outlinewidth": 0,
             "ticks": ""
            },
            "colorscale": [
             [
              0,
              "#0d0887"
             ],
             [
              0.1111111111111111,
              "#46039f"
             ],
             [
              0.2222222222222222,
              "#7201a8"
             ],
             [
              0.3333333333333333,
              "#9c179e"
             ],
             [
              0.4444444444444444,
              "#bd3786"
             ],
             [
              0.5555555555555556,
              "#d8576b"
             ],
             [
              0.6666666666666666,
              "#ed7953"
             ],
             [
              0.7777777777777778,
              "#fb9f3a"
             ],
             [
              0.8888888888888888,
              "#fdca26"
             ],
             [
              1,
              "#f0f921"
             ]
            ],
            "type": "histogram2dcontour"
           }
          ],
          "mesh3d": [
           {
            "colorbar": {
             "outlinewidth": 0,
             "ticks": ""
            },
            "type": "mesh3d"
           }
          ],
          "parcoords": [
           {
            "line": {
             "colorbar": {
              "outlinewidth": 0,
              "ticks": ""
             }
            },
            "type": "parcoords"
           }
          ],
          "pie": [
           {
            "automargin": true,
            "type": "pie"
           }
          ],
          "scatter": [
           {
            "fillpattern": {
             "fillmode": "overlay",
             "size": 10,
             "solidity": 0.2
            },
            "type": "scatter"
           }
          ],
          "scatter3d": [
           {
            "line": {
             "colorbar": {
              "outlinewidth": 0,
              "ticks": ""
             }
            },
            "marker": {
             "colorbar": {
              "outlinewidth": 0,
              "ticks": ""
             }
            },
            "type": "scatter3d"
           }
          ],
          "scattercarpet": [
           {
            "marker": {
             "colorbar": {
              "outlinewidth": 0,
              "ticks": ""
             }
            },
            "type": "scattercarpet"
           }
          ],
          "scattergeo": [
           {
            "marker": {
             "colorbar": {
              "outlinewidth": 0,
              "ticks": ""
             }
            },
            "type": "scattergeo"
           }
          ],
          "scattergl": [
           {
            "marker": {
             "colorbar": {
              "outlinewidth": 0,
              "ticks": ""
             }
            },
            "type": "scattergl"
           }
          ],
          "scattermapbox": [
           {
            "marker": {
             "colorbar": {
              "outlinewidth": 0,
              "ticks": ""
             }
            },
            "type": "scattermapbox"
           }
          ],
          "scatterpolar": [
           {
            "marker": {
             "colorbar": {
              "outlinewidth": 0,
              "ticks": ""
             }
            },
            "type": "scatterpolar"
           }
          ],
          "scatterpolargl": [
           {
            "marker": {
             "colorbar": {
              "outlinewidth": 0,
              "ticks": ""
             }
            },
            "type": "scatterpolargl"
           }
          ],
          "scatterternary": [
           {
            "marker": {
             "colorbar": {
              "outlinewidth": 0,
              "ticks": ""
             }
            },
            "type": "scatterternary"
           }
          ],
          "surface": [
           {
            "colorbar": {
             "outlinewidth": 0,
             "ticks": ""
            },
            "colorscale": [
             [
              0,
              "#0d0887"
             ],
             [
              0.1111111111111111,
              "#46039f"
             ],
             [
              0.2222222222222222,
              "#7201a8"
             ],
             [
              0.3333333333333333,
              "#9c179e"
             ],
             [
              0.4444444444444444,
              "#bd3786"
             ],
             [
              0.5555555555555556,
              "#d8576b"
             ],
             [
              0.6666666666666666,
              "#ed7953"
             ],
             [
              0.7777777777777778,
              "#fb9f3a"
             ],
             [
              0.8888888888888888,
              "#fdca26"
             ],
             [
              1,
              "#f0f921"
             ]
            ],
            "type": "surface"
           }
          ],
          "table": [
           {
            "cells": {
             "fill": {
              "color": "#EBF0F8"
             },
             "line": {
              "color": "white"
             }
            },
            "header": {
             "fill": {
              "color": "#C8D4E3"
             },
             "line": {
              "color": "white"
             }
            },
            "type": "table"
           }
          ]
         },
         "layout": {
          "annotationdefaults": {
           "arrowcolor": "#2a3f5f",
           "arrowhead": 0,
           "arrowwidth": 1
          },
          "autotypenumbers": "strict",
          "coloraxis": {
           "colorbar": {
            "outlinewidth": 0,
            "ticks": ""
           }
          },
          "colorscale": {
           "diverging": [
            [
             0,
             "#8e0152"
            ],
            [
             0.1,
             "#c51b7d"
            ],
            [
             0.2,
             "#de77ae"
            ],
            [
             0.3,
             "#f1b6da"
            ],
            [
             0.4,
             "#fde0ef"
            ],
            [
             0.5,
             "#f7f7f7"
            ],
            [
             0.6,
             "#e6f5d0"
            ],
            [
             0.7,
             "#b8e186"
            ],
            [
             0.8,
             "#7fbc41"
            ],
            [
             0.9,
             "#4d9221"
            ],
            [
             1,
             "#276419"
            ]
           ],
           "sequential": [
            [
             0,
             "#0d0887"
            ],
            [
             0.1111111111111111,
             "#46039f"
            ],
            [
             0.2222222222222222,
             "#7201a8"
            ],
            [
             0.3333333333333333,
             "#9c179e"
            ],
            [
             0.4444444444444444,
             "#bd3786"
            ],
            [
             0.5555555555555556,
             "#d8576b"
            ],
            [
             0.6666666666666666,
             "#ed7953"
            ],
            [
             0.7777777777777778,
             "#fb9f3a"
            ],
            [
             0.8888888888888888,
             "#fdca26"
            ],
            [
             1,
             "#f0f921"
            ]
           ],
           "sequentialminus": [
            [
             0,
             "#0d0887"
            ],
            [
             0.1111111111111111,
             "#46039f"
            ],
            [
             0.2222222222222222,
             "#7201a8"
            ],
            [
             0.3333333333333333,
             "#9c179e"
            ],
            [
             0.4444444444444444,
             "#bd3786"
            ],
            [
             0.5555555555555556,
             "#d8576b"
            ],
            [
             0.6666666666666666,
             "#ed7953"
            ],
            [
             0.7777777777777778,
             "#fb9f3a"
            ],
            [
             0.8888888888888888,
             "#fdca26"
            ],
            [
             1,
             "#f0f921"
            ]
           ]
          },
          "colorway": [
           "#636efa",
           "#EF553B",
           "#00cc96",
           "#ab63fa",
           "#FFA15A",
           "#19d3f3",
           "#FF6692",
           "#B6E880",
           "#FF97FF",
           "#FECB52"
          ],
          "font": {
           "color": "#2a3f5f"
          },
          "geo": {
           "bgcolor": "white",
           "lakecolor": "white",
           "landcolor": "#E5ECF6",
           "showlakes": true,
           "showland": true,
           "subunitcolor": "white"
          },
          "hoverlabel": {
           "align": "left"
          },
          "hovermode": "closest",
          "mapbox": {
           "style": "light"
          },
          "paper_bgcolor": "white",
          "plot_bgcolor": "#E5ECF6",
          "polar": {
           "angularaxis": {
            "gridcolor": "white",
            "linecolor": "white",
            "ticks": ""
           },
           "bgcolor": "#E5ECF6",
           "radialaxis": {
            "gridcolor": "white",
            "linecolor": "white",
            "ticks": ""
           }
          },
          "scene": {
           "xaxis": {
            "backgroundcolor": "#E5ECF6",
            "gridcolor": "white",
            "gridwidth": 2,
            "linecolor": "white",
            "showbackground": true,
            "ticks": "",
            "zerolinecolor": "white"
           },
           "yaxis": {
            "backgroundcolor": "#E5ECF6",
            "gridcolor": "white",
            "gridwidth": 2,
            "linecolor": "white",
            "showbackground": true,
            "ticks": "",
            "zerolinecolor": "white"
           },
           "zaxis": {
            "backgroundcolor": "#E5ECF6",
            "gridcolor": "white",
            "gridwidth": 2,
            "linecolor": "white",
            "showbackground": true,
            "ticks": "",
            "zerolinecolor": "white"
           }
          },
          "shapedefaults": {
           "line": {
            "color": "#2a3f5f"
           }
          },
          "ternary": {
           "aaxis": {
            "gridcolor": "white",
            "linecolor": "white",
            "ticks": ""
           },
           "baxis": {
            "gridcolor": "white",
            "linecolor": "white",
            "ticks": ""
           },
           "bgcolor": "#E5ECF6",
           "caxis": {
            "gridcolor": "white",
            "linecolor": "white",
            "ticks": ""
           }
          },
          "title": {
           "x": 0.05
          },
          "xaxis": {
           "automargin": true,
           "gridcolor": "white",
           "linecolor": "white",
           "ticks": "",
           "title": {
            "standoff": 15
           },
           "zerolinecolor": "white",
           "zerolinewidth": 2
          },
          "yaxis": {
           "automargin": true,
           "gridcolor": "white",
           "linecolor": "white",
           "ticks": "",
           "title": {
            "standoff": 15
           },
           "zerolinecolor": "white",
           "zerolinewidth": 2
          }
         }
        },
        "title": {
         "text": "Performance Metrics"
        },
        "width": 500,
        "xaxis": {
         "anchor": "y",
         "domain": [
          0,
          1
         ],
         "tickformat": ".0%",
         "title": {
          "text": "Percentage"
         }
        },
        "yaxis": {
         "anchor": "x",
         "domain": [
          0,
          1
         ],
         "title": {
          "text": "Metric"
         }
        }
       }
      }
     },
     "metadata": {},
     "output_type": "display_data"
    }
   ],
   "source": [
    "# Evaluate the model with the test data\n",
    "evaluate_model(model, X_test, y_test)"
   ]
  },
  {
   "cell_type": "markdown",
   "metadata": {},
   "source": [
    "## Hyperparameter Tuning\n",
    "\n",
    "**Parameters**\n",
    "\n",
    "*n_estimators*\n",
    "- Number of trees in the forest.\n",
    "- Default: 100.\n",
    "- The number of trees in the forest directly impacts the model's performance and training time. Too few trees might underfit the data, while too many trees can lead to unnecessary computation.\n",
    "- Controls the overall stability and accuracy of the model.\n",
    "\n",
    "*max_depth*\n",
    "- Maximum depth of each decision tree.\n",
    "- Default: None (nodes are expanded until all leaves are pure or contain less than min_samples_split samples).\n",
    "- The depth of the trees determines how much the model learns from the data. Deeper trees can capture more complex patterns but are prone to overfitting.\n",
    "- Critical for balancing model complexity and generalization.\n",
    "\n",
    "*min_samples_split*\n",
    "- Minimum number of samples required to split an internal node.\n",
    "- Default: 2.\n",
    "- min_samples_split: This parameter controls when a node can be split. Larger values prevent overly deep trees and reduce overfitting.\n",
    "- Helps create more generalizable models, particularly for datasets prone to overfitting.\n",
    "\n",
    "*min_samples_leaf*\n",
    "- Minimum number of samples required to be at a leaf node. \n",
    "- Default: 1.\n",
    "- Ensures that leaf nodes have a minimum number of samples. This prevents the model from being overly sensitive to individual data points.\n",
    "- Helps smooth decision boundaries and avoids creating overly complex trees (reduce overfitting).\n",
    "\n",
    "*max_features*\n",
    "- Number of features to consider when looking for the best split.\n",
    "- Options: None (all features) sqrt (of the total number of features), log2 (of the total number of features), integer\n",
    "- Controls randomness in splits. Smaller values increase randomness, thereby improving generalization.\n",
    "- For classification, sqrt works well (default). For regression, use None or log2.\n",
    "\n",
    "*class_weight*\n",
    "- Weights associated with classes to address imbalanced datasets.\n",
    "- Options: None (no weights), balanced (adjusts weights inversely proportional to class frequencies), or manually define weights for each class.\n",
    "- Helps the model focus on minority classes, thereby improving recall for underrepresented categories.\n",
    "- Default: None.\n",
    "\n",
    "These four parameters are among the most influential for controlling the **bias-variance tradeoff** in Random Forests.\n",
    "\n",
    "**Why do I use Bayesian search?**\n",
    "\n",
    "- Grid search is simple since it covers the whole parameter space but it is computationally exhaustive. Since this parameter space is continuous, a very fine grid is needed.\n",
    "- Random search is not systematic since it could miss optimal regions if random sampling does not hit them, and also inefficient because it randomly evaluates combinations without learning from past evaluations.\n",
    "- Bayesian search uses past evaluations to estimate which hyperparameter regions are promising and explores them more. Meanwhile it balances exploration (trying new regions) and exploitation (focusing on areas with good results). It works well with continuous, large, or high-dimensional spaces as in this case.\n",
    "\n",
    "**What is cross validation?**\n",
    "1. The entire dataset is divided into a training set and a test set (e.g., 80% train, 20% test).\n",
    "2. The test set is set aside for final evaluation and is not involved in the cross-validation or training.\n",
    "3. The training set is further split into multiple folds (e.g., 5 folds).\n",
    "4. For each fold: one subset is used for validation, and the remaining subsets are used for training. This process is repeated until every fold has been used once as the validation set.\n",
    "\n",
    "**Why do I optimize for recall and not for accuracy?**"
   ]
  },
  {
   "cell_type": "code",
   "execution_count": 7,
   "metadata": {},
   "outputs": [
    {
     "name": "stderr",
     "output_type": "stream",
     "text": [
      "[I 2024-12-20 09:50:25,133] A new study created in memory with name: no-name-3dea1cbd-8275-44ac-87c7-2a65746d0aab\n",
      "[I 2024-12-20 09:50:56,731] Trial 0 finished with value: 0.20088105726872246 and parameters: {'n_estimators': 100, 'max_depth': 12, 'min_samples_split': 3, 'min_samples_leaf': 2}. Best is trial 0 with value: 0.20088105726872246.\n",
      "[I 2024-12-20 09:51:11,496] Trial 1 finished with value: 0.1920704845814978 and parameters: {'n_estimators': 109, 'max_depth': 12, 'min_samples_split': 5, 'min_samples_leaf': 2}. Best is trial 0 with value: 0.20088105726872246.\n",
      "[I 2024-12-20 09:51:23,084] Trial 2 finished with value: 0.23524229074889869 and parameters: {'n_estimators': 110, 'max_depth': 11, 'min_samples_split': 2, 'min_samples_leaf': 1}. Best is trial 2 with value: 0.23524229074889869.\n",
      "[I 2024-12-20 09:51:35,634] Trial 3 finished with value: 0.20881057268722464 and parameters: {'n_estimators': 94, 'max_depth': 12, 'min_samples_split': 4, 'min_samples_leaf': 3}. Best is trial 2 with value: 0.23524229074889869.\n",
      "[I 2024-12-20 09:51:52,902] Trial 4 finished with value: 0.2889867841409692 and parameters: {'n_estimators': 107, 'max_depth': 10, 'min_samples_split': 3, 'min_samples_leaf': 1}. Best is trial 4 with value: 0.2889867841409692.\n",
      "[I 2024-12-20 09:52:03,397] Trial 5 finished with value: 0.20969162995594717 and parameters: {'n_estimators': 93, 'max_depth': 12, 'min_samples_split': 5, 'min_samples_leaf': 3}. Best is trial 4 with value: 0.2889867841409692.\n",
      "[I 2024-12-20 09:52:17,581] Trial 6 finished with value: 0.2088105726872247 and parameters: {'n_estimators': 108, 'max_depth': 12, 'min_samples_split': 5, 'min_samples_leaf': 3}. Best is trial 4 with value: 0.2889867841409692.\n",
      "[I 2024-12-20 09:52:29,024] Trial 7 finished with value: 0.24229074889867844 and parameters: {'n_estimators': 104, 'max_depth': 11, 'min_samples_split': 4, 'min_samples_leaf': 1}. Best is trial 4 with value: 0.2889867841409692.\n",
      "[I 2024-12-20 09:52:36,275] Trial 8 finished with value: 0.2863436123348017 and parameters: {'n_estimators': 91, 'max_depth': 10, 'min_samples_split': 2, 'min_samples_leaf': 1}. Best is trial 4 with value: 0.2889867841409692.\n",
      "[I 2024-12-20 09:52:52,201] Trial 9 finished with value: 0.24493392070484585 and parameters: {'n_estimators': 100, 'max_depth': 11, 'min_samples_split': 3, 'min_samples_leaf': 3}. Best is trial 4 with value: 0.2889867841409692.\n",
      "[I 2024-12-20 09:53:05,604] Trial 10 finished with value: 0.2881057268722467 and parameters: {'n_estimators': 104, 'max_depth': 10, 'min_samples_split': 3, 'min_samples_leaf': 1}. Best is trial 4 with value: 0.2889867841409692.\n",
      "[I 2024-12-20 09:53:26,694] Trial 11 finished with value: 0.2881057268722467 and parameters: {'n_estimators': 104, 'max_depth': 10, 'min_samples_split': 3, 'min_samples_leaf': 1}. Best is trial 4 with value: 0.2889867841409692.\n",
      "[I 2024-12-20 09:53:43,998] Trial 12 finished with value: 0.2951541850220264 and parameters: {'n_estimators': 105, 'max_depth': 10, 'min_samples_split': 3, 'min_samples_leaf': 2}. Best is trial 12 with value: 0.2951541850220264.\n",
      "[I 2024-12-20 09:53:58,315] Trial 13 finished with value: 0.29251101321585904 and parameters: {'n_estimators': 106, 'max_depth': 10, 'min_samples_split': 2, 'min_samples_leaf': 2}. Best is trial 12 with value: 0.2951541850220264.\n",
      "[I 2024-12-20 09:54:09,721] Trial 14 finished with value: 0.29779735682819386 and parameters: {'n_estimators': 97, 'max_depth': 10, 'min_samples_split': 2, 'min_samples_leaf': 2}. Best is trial 14 with value: 0.29779735682819386.\n",
      "[I 2024-12-20 09:54:17,897] Trial 15 finished with value: 0.29779735682819386 and parameters: {'n_estimators': 97, 'max_depth': 10, 'min_samples_split': 2, 'min_samples_leaf': 2}. Best is trial 14 with value: 0.29779735682819386.\n",
      "[I 2024-12-20 09:54:29,265] Trial 16 finished with value: 0.2493392070484582 and parameters: {'n_estimators': 97, 'max_depth': 11, 'min_samples_split': 2, 'min_samples_leaf': 2}. Best is trial 14 with value: 0.29779735682819386.\n",
      "[I 2024-12-20 09:54:38,086] Trial 17 finished with value: 0.2960352422907489 and parameters: {'n_estimators': 98, 'max_depth': 10, 'min_samples_split': 2, 'min_samples_leaf': 2}. Best is trial 14 with value: 0.29779735682819386.\n",
      "[I 2024-12-20 09:54:45,971] Trial 18 finished with value: 0.2511013215859031 and parameters: {'n_estimators': 95, 'max_depth': 11, 'min_samples_split': 2, 'min_samples_leaf': 2}. Best is trial 14 with value: 0.29779735682819386.\n",
      "[I 2024-12-20 09:54:53,080] Trial 19 finished with value: 0.29779735682819386 and parameters: {'n_estimators': 90, 'max_depth': 10, 'min_samples_split': 4, 'min_samples_leaf': 2}. Best is trial 14 with value: 0.29779735682819386.\n",
      "[I 2024-12-20 09:55:00,559] Trial 20 finished with value: 0.29955947136563876 and parameters: {'n_estimators': 97, 'max_depth': 10, 'min_samples_split': 2, 'min_samples_leaf': 3}. Best is trial 20 with value: 0.29955947136563876.\n",
      "[I 2024-12-20 09:55:11,415] Trial 21 finished with value: 0.29955947136563876 and parameters: {'n_estimators': 97, 'max_depth': 10, 'min_samples_split': 2, 'min_samples_leaf': 3}. Best is trial 20 with value: 0.29955947136563876.\n",
      "[I 2024-12-20 09:55:24,308] Trial 22 finished with value: 0.29779735682819386 and parameters: {'n_estimators': 101, 'max_depth': 10, 'min_samples_split': 2, 'min_samples_leaf': 3}. Best is trial 20 with value: 0.29955947136563876.\n",
      "[I 2024-12-20 09:55:39,305] Trial 23 finished with value: 0.24052863436123348 and parameters: {'n_estimators': 96, 'max_depth': 11, 'min_samples_split': 2, 'min_samples_leaf': 3}. Best is trial 20 with value: 0.29955947136563876.\n",
      "[I 2024-12-20 09:55:47,258] Trial 24 finished with value: 0.29691629955947135 and parameters: {'n_estimators': 99, 'max_depth': 10, 'min_samples_split': 2, 'min_samples_leaf': 3}. Best is trial 20 with value: 0.29955947136563876.\n",
      "[I 2024-12-20 09:55:55,539] Trial 25 finished with value: 0.29515418502202645 and parameters: {'n_estimators': 102, 'max_depth': 10, 'min_samples_split': 3, 'min_samples_leaf': 3}. Best is trial 20 with value: 0.29955947136563876.\n",
      "[I 2024-12-20 09:56:02,430] Trial 26 finished with value: 0.2960352422907489 and parameters: {'n_estimators': 93, 'max_depth': 10, 'min_samples_split': 2, 'min_samples_leaf': 3}. Best is trial 20 with value: 0.29955947136563876.\n",
      "[I 2024-12-20 09:56:10,019] Trial 27 finished with value: 0.24405286343612334 and parameters: {'n_estimators': 98, 'max_depth': 11, 'min_samples_split': 3, 'min_samples_leaf': 3}. Best is trial 20 with value: 0.29955947136563876.\n",
      "[I 2024-12-20 09:56:17,030] Trial 28 finished with value: 0.29955947136563876 and parameters: {'n_estimators': 95, 'max_depth': 10, 'min_samples_split': 2, 'min_samples_leaf': 3}. Best is trial 20 with value: 0.29955947136563876.\n",
      "[I 2024-12-20 09:56:30,057] Trial 29 finished with value: 0.2414096916299559 and parameters: {'n_estimators': 95, 'max_depth': 11, 'min_samples_split': 3, 'min_samples_leaf': 3}. Best is trial 20 with value: 0.29955947136563876.\n",
      "[I 2024-12-20 09:56:42,007] Trial 30 finished with value: 0.29867841409691626 and parameters: {'n_estimators': 92, 'max_depth': 10, 'min_samples_split': 4, 'min_samples_leaf': 3}. Best is trial 20 with value: 0.29955947136563876.\n",
      "[I 2024-12-20 09:57:00,355] Trial 31 finished with value: 0.29867841409691626 and parameters: {'n_estimators': 91, 'max_depth': 10, 'min_samples_split': 4, 'min_samples_leaf': 3}. Best is trial 20 with value: 0.29955947136563876.\n",
      "[I 2024-12-20 09:57:08,578] Trial 32 finished with value: 0.2960352422907489 and parameters: {'n_estimators': 93, 'max_depth': 10, 'min_samples_split': 4, 'min_samples_leaf': 3}. Best is trial 20 with value: 0.29955947136563876.\n",
      "[I 2024-12-20 09:57:15,454] Trial 33 finished with value: 0.29955947136563876 and parameters: {'n_estimators': 95, 'max_depth': 10, 'min_samples_split': 5, 'min_samples_leaf': 3}. Best is trial 20 with value: 0.29955947136563876.\n",
      "[I 2024-12-20 09:57:27,019] Trial 34 finished with value: 0.29955947136563876 and parameters: {'n_estimators': 95, 'max_depth': 10, 'min_samples_split': 5, 'min_samples_leaf': 3}. Best is trial 20 with value: 0.29955947136563876.\n",
      "[I 2024-12-20 09:57:36,892] Trial 35 finished with value: 0.29691629955947135 and parameters: {'n_estimators': 99, 'max_depth': 10, 'min_samples_split': 5, 'min_samples_leaf': 3}. Best is trial 20 with value: 0.29955947136563876.\n",
      "[I 2024-12-20 09:57:44,536] Trial 36 finished with value: 0.29515418502202645 and parameters: {'n_estimators': 94, 'max_depth': 10, 'min_samples_split': 2, 'min_samples_leaf': 3}. Best is trial 20 with value: 0.29955947136563876.\n",
      "[I 2024-12-20 09:57:52,726] Trial 37 finished with value: 0.29691629955947135 and parameters: {'n_estimators': 96, 'max_depth': 10, 'min_samples_split': 3, 'min_samples_leaf': 3}. Best is trial 20 with value: 0.29955947136563876.\n",
      "[I 2024-12-20 09:58:03,312] Trial 38 finished with value: 0.20616740088105728 and parameters: {'n_estimators': 101, 'max_depth': 12, 'min_samples_split': 5, 'min_samples_leaf': 3}. Best is trial 20 with value: 0.29955947136563876.\n",
      "[I 2024-12-20 09:58:14,321] Trial 39 finished with value: 0.24052863436123348 and parameters: {'n_estimators': 94, 'max_depth': 11, 'min_samples_split': 2, 'min_samples_leaf': 3}. Best is trial 20 with value: 0.29955947136563876.\n",
      "[I 2024-12-20 09:58:23,359] Trial 40 finished with value: 0.24052863436123348 and parameters: {'n_estimators': 96, 'max_depth': 11, 'min_samples_split': 2, 'min_samples_leaf': 3}. Best is trial 20 with value: 0.29955947136563876.\n",
      "[I 2024-12-20 09:58:30,560] Trial 41 finished with value: 0.29955947136563876 and parameters: {'n_estimators': 95, 'max_depth': 10, 'min_samples_split': 5, 'min_samples_leaf': 3}. Best is trial 20 with value: 0.29955947136563876.\n",
      "[I 2024-12-20 09:58:38,463] Trial 42 finished with value: 0.29779735682819386 and parameters: {'n_estimators': 98, 'max_depth': 10, 'min_samples_split': 5, 'min_samples_leaf': 3}. Best is trial 20 with value: 0.29955947136563876.\n",
      "[I 2024-12-20 09:58:55,027] Trial 43 finished with value: 0.2960352422907489 and parameters: {'n_estimators': 93, 'max_depth': 10, 'min_samples_split': 5, 'min_samples_leaf': 3}. Best is trial 20 with value: 0.29955947136563876.\n",
      "[I 2024-12-20 09:59:03,510] Trial 44 finished with value: 0.29515418502202645 and parameters: {'n_estimators': 94, 'max_depth': 10, 'min_samples_split': 5, 'min_samples_leaf': 3}. Best is trial 20 with value: 0.29955947136563876.\n",
      "[I 2024-12-20 09:59:11,042] Trial 45 finished with value: 0.29691629955947135 and parameters: {'n_estimators': 96, 'max_depth': 10, 'min_samples_split': 5, 'min_samples_leaf': 3}. Best is trial 20 with value: 0.29955947136563876.\n",
      "[I 2024-12-20 09:59:19,822] Trial 46 finished with value: 0.2933920704845815 and parameters: {'n_estimators': 110, 'max_depth': 10, 'min_samples_split': 4, 'min_samples_leaf': 3}. Best is trial 20 with value: 0.29955947136563876.\n",
      "[I 2024-12-20 09:59:27,316] Trial 47 finished with value: 0.29691629955947135 and parameters: {'n_estimators': 99, 'max_depth': 10, 'min_samples_split': 4, 'min_samples_leaf': 3}. Best is trial 20 with value: 0.29955947136563876.\n",
      "[I 2024-12-20 09:59:34,339] Trial 48 finished with value: 0.29867841409691626 and parameters: {'n_estimators': 92, 'max_depth': 10, 'min_samples_split': 5, 'min_samples_leaf': 3}. Best is trial 20 with value: 0.29955947136563876.\n",
      "[I 2024-12-20 09:59:42,493] Trial 49 finished with value: 0.29955947136563876 and parameters: {'n_estimators': 97, 'max_depth': 10, 'min_samples_split': 2, 'min_samples_leaf': 3}. Best is trial 20 with value: 0.29955947136563876.\n"
     ]
    },
    {
     "name": "stdout",
     "output_type": "stream",
     "text": [
      "The best parameters are: {'n_estimators': 97, 'max_depth': 10, 'min_samples_split': 2, 'min_samples_leaf': 3}\n"
     ]
    }
   ],
   "source": [
    "# Train the tuned model (inherent parameter optimization)\n",
    "tuned_model = train_random_forest_tuned(X_train, y_train, n_trials = 50)\n",
    "\n",
    "# Save to pkl file to store output\n",
    "save_to_pickle(tuned_model, '../pickle/tuned_model.pkl')"
   ]
  },
  {
   "cell_type": "code",
   "execution_count": 8,
   "metadata": {},
   "outputs": [],
   "source": [
    "# Load model from file\n",
    "tuned_model = load_from_pickle('../pickle/tuned_model.pkl')\n",
    "\n",
    "# Evaluate the tuned model\n",
    "tuned_scores = evaluate_model(tuned_model, X_test, y_test)\n",
    "tuned_scores.write_image('../plots/tuned_scores.png', scale = 6)"
   ]
  },
  {
   "cell_type": "code",
   "execution_count": 9,
   "metadata": {},
   "outputs": [],
   "source": [
    "#tuned_model = pd.read_pickle('../pickle/tuned_model.pkl')\n",
    "#tuned_model"
   ]
  },
  {
   "cell_type": "code",
   "execution_count": 9,
   "metadata": {},
   "outputs": [
    {
     "data": {
      "text/html": [
       "<div>\n",
       "<style scoped>\n",
       "    .dataframe tbody tr th:only-of-type {\n",
       "        vertical-align: middle;\n",
       "    }\n",
       "\n",
       "    .dataframe tbody tr th {\n",
       "        vertical-align: top;\n",
       "    }\n",
       "\n",
       "    .dataframe thead th {\n",
       "        text-align: right;\n",
       "    }\n",
       "</style>\n",
       "<table border=\"1\" class=\"dataframe\">\n",
       "  <thead>\n",
       "    <tr style=\"text-align: right;\">\n",
       "      <th></th>\n",
       "      <th>Number of Trees</th>\n",
       "      <th>Maximum Tree Depth</th>\n",
       "      <th>Minimum Samples of a Split</th>\n",
       "      <th>Minimum Samples of a Leaf</th>\n",
       "    </tr>\n",
       "  </thead>\n",
       "  <tbody>\n",
       "    <tr>\n",
       "      <th></th>\n",
       "      <td>97</td>\n",
       "      <td>10</td>\n",
       "      <td>2</td>\n",
       "      <td>3</td>\n",
       "    </tr>\n",
       "  </tbody>\n",
       "</table>\n",
       "</div>"
      ],
      "text/plain": [
       "  Number of Trees  Maximum Tree Depth  Minimum Samples of a Split  \\\n",
       "               97                  10                           2   \n",
       "\n",
       "  Minimum Samples of a Leaf  \n",
       "                          3  "
      ]
     },
     "execution_count": 9,
     "metadata": {},
     "output_type": "execute_result"
    }
   ],
   "source": [
    "best_params = {\n",
    "    \"Number of Trees\": tuned_model.n_estimators,\n",
    "    \"Maximum Tree Depth\": tuned_model.max_depth,\n",
    "    \"Minimum Samples of a Split\": tuned_model.min_samples_split,\n",
    "    \"Minimum Samples of a Leaf\": tuned_model.min_samples_leaf}\n",
    "\n",
    "# Convert to DataFrame\n",
    "best_params_df = pd.DataFrame([best_params], index = [\"\"])\n",
    "best_params_df"
   ]
  },
  {
   "cell_type": "markdown",
   "metadata": {},
   "source": [
    "# Feature Importances"
   ]
  },
  {
   "cell_type": "code",
   "execution_count": 11,
   "metadata": {},
   "outputs": [
    {
     "data": {
      "application/vnd.plotly.v1+json": {
       "config": {
        "plotlyServerURL": "https://plot.ly"
       },
       "data": [
        {
         "alignmentgroup": "True",
         "hovertemplate": "Importance=%{x}<br>Feature=%{y}<extra></extra>",
         "legendgroup": "",
         "marker": {
          "color": "#10b38f",
          "pattern": {
           "shape": ""
          }
         },
         "name": "",
         "offsetgroup": "",
         "orientation": "h",
         "showlegend": false,
         "textposition": "auto",
         "type": "bar",
         "x": [
          0.0041,
          0.0049,
          0.0064,
          0.0067,
          0.0073,
          0.0111,
          0.0112,
          0.0119,
          0.014,
          0.0164,
          0.0184,
          0.0198,
          0.0247,
          0.0256,
          0.029,
          0.0294,
          0.0347,
          0.0372,
          0.0389,
          0.0473,
          0.0586,
          0.0599,
          0.0728,
          0.0764,
          0.081,
          0.0812,
          0.0818,
          0.0893
         ],
         "xaxis": "x",
         "y": [
          "channel_sales_4",
          "channel_sales_3",
          "channel_sales_1",
          "channel_sales_2",
          "std_price_mid_peak_var",
          "channel_sales_0",
          "range_price_mid_peak_var",
          "std_price_peak_var",
          "avg_price_mid_peak_var",
          "std_price_off_peak_var",
          "range_price_peak_var",
          "avg_price_peak_var",
          "yearly_gas_consumption",
          "price_peak_off_peak_ratio_var",
          "range_price_off_peak_var",
          "tenure_years",
          "months_since_renewed",
          "months_to_end",
          "avg_price_off_peak_var",
          "paid_consumption",
          "months_since_modified",
          "monthly_consumption",
          "yearly_forecast_consumption",
          "net_margin",
          "net_margin_power",
          "net_margin_electricity",
          "yearly_forecast_meter_rent",
          "yearly_consumption"
         ],
         "yaxis": "y"
        }
       ],
       "layout": {
        "barmode": "relative",
        "height": 650,
        "legend": {
         "tracegroupgap": 0
        },
        "margin": {
         "b": 30,
         "t": 40
        },
        "paper_bgcolor": "rgba(0,0,0,0)",
        "plot_bgcolor": "rgba(0,0,0,0)",
        "template": {
         "data": {
          "bar": [
           {
            "error_x": {
             "color": "#2a3f5f"
            },
            "error_y": {
             "color": "#2a3f5f"
            },
            "marker": {
             "line": {
              "color": "#E5ECF6",
              "width": 0.5
             },
             "pattern": {
              "fillmode": "overlay",
              "size": 10,
              "solidity": 0.2
             }
            },
            "type": "bar"
           }
          ],
          "barpolar": [
           {
            "marker": {
             "line": {
              "color": "#E5ECF6",
              "width": 0.5
             },
             "pattern": {
              "fillmode": "overlay",
              "size": 10,
              "solidity": 0.2
             }
            },
            "type": "barpolar"
           }
          ],
          "carpet": [
           {
            "aaxis": {
             "endlinecolor": "#2a3f5f",
             "gridcolor": "white",
             "linecolor": "white",
             "minorgridcolor": "white",
             "startlinecolor": "#2a3f5f"
            },
            "baxis": {
             "endlinecolor": "#2a3f5f",
             "gridcolor": "white",
             "linecolor": "white",
             "minorgridcolor": "white",
             "startlinecolor": "#2a3f5f"
            },
            "type": "carpet"
           }
          ],
          "choropleth": [
           {
            "colorbar": {
             "outlinewidth": 0,
             "ticks": ""
            },
            "type": "choropleth"
           }
          ],
          "contour": [
           {
            "colorbar": {
             "outlinewidth": 0,
             "ticks": ""
            },
            "colorscale": [
             [
              0,
              "#0d0887"
             ],
             [
              0.1111111111111111,
              "#46039f"
             ],
             [
              0.2222222222222222,
              "#7201a8"
             ],
             [
              0.3333333333333333,
              "#9c179e"
             ],
             [
              0.4444444444444444,
              "#bd3786"
             ],
             [
              0.5555555555555556,
              "#d8576b"
             ],
             [
              0.6666666666666666,
              "#ed7953"
             ],
             [
              0.7777777777777778,
              "#fb9f3a"
             ],
             [
              0.8888888888888888,
              "#fdca26"
             ],
             [
              1,
              "#f0f921"
             ]
            ],
            "type": "contour"
           }
          ],
          "contourcarpet": [
           {
            "colorbar": {
             "outlinewidth": 0,
             "ticks": ""
            },
            "type": "contourcarpet"
           }
          ],
          "heatmap": [
           {
            "colorbar": {
             "outlinewidth": 0,
             "ticks": ""
            },
            "colorscale": [
             [
              0,
              "#0d0887"
             ],
             [
              0.1111111111111111,
              "#46039f"
             ],
             [
              0.2222222222222222,
              "#7201a8"
             ],
             [
              0.3333333333333333,
              "#9c179e"
             ],
             [
              0.4444444444444444,
              "#bd3786"
             ],
             [
              0.5555555555555556,
              "#d8576b"
             ],
             [
              0.6666666666666666,
              "#ed7953"
             ],
             [
              0.7777777777777778,
              "#fb9f3a"
             ],
             [
              0.8888888888888888,
              "#fdca26"
             ],
             [
              1,
              "#f0f921"
             ]
            ],
            "type": "heatmap"
           }
          ],
          "heatmapgl": [
           {
            "colorbar": {
             "outlinewidth": 0,
             "ticks": ""
            },
            "colorscale": [
             [
              0,
              "#0d0887"
             ],
             [
              0.1111111111111111,
              "#46039f"
             ],
             [
              0.2222222222222222,
              "#7201a8"
             ],
             [
              0.3333333333333333,
              "#9c179e"
             ],
             [
              0.4444444444444444,
              "#bd3786"
             ],
             [
              0.5555555555555556,
              "#d8576b"
             ],
             [
              0.6666666666666666,
              "#ed7953"
             ],
             [
              0.7777777777777778,
              "#fb9f3a"
             ],
             [
              0.8888888888888888,
              "#fdca26"
             ],
             [
              1,
              "#f0f921"
             ]
            ],
            "type": "heatmapgl"
           }
          ],
          "histogram": [
           {
            "marker": {
             "pattern": {
              "fillmode": "overlay",
              "size": 10,
              "solidity": 0.2
             }
            },
            "type": "histogram"
           }
          ],
          "histogram2d": [
           {
            "colorbar": {
             "outlinewidth": 0,
             "ticks": ""
            },
            "colorscale": [
             [
              0,
              "#0d0887"
             ],
             [
              0.1111111111111111,
              "#46039f"
             ],
             [
              0.2222222222222222,
              "#7201a8"
             ],
             [
              0.3333333333333333,
              "#9c179e"
             ],
             [
              0.4444444444444444,
              "#bd3786"
             ],
             [
              0.5555555555555556,
              "#d8576b"
             ],
             [
              0.6666666666666666,
              "#ed7953"
             ],
             [
              0.7777777777777778,
              "#fb9f3a"
             ],
             [
              0.8888888888888888,
              "#fdca26"
             ],
             [
              1,
              "#f0f921"
             ]
            ],
            "type": "histogram2d"
           }
          ],
          "histogram2dcontour": [
           {
            "colorbar": {
             "outlinewidth": 0,
             "ticks": ""
            },
            "colorscale": [
             [
              0,
              "#0d0887"
             ],
             [
              0.1111111111111111,
              "#46039f"
             ],
             [
              0.2222222222222222,
              "#7201a8"
             ],
             [
              0.3333333333333333,
              "#9c179e"
             ],
             [
              0.4444444444444444,
              "#bd3786"
             ],
             [
              0.5555555555555556,
              "#d8576b"
             ],
             [
              0.6666666666666666,
              "#ed7953"
             ],
             [
              0.7777777777777778,
              "#fb9f3a"
             ],
             [
              0.8888888888888888,
              "#fdca26"
             ],
             [
              1,
              "#f0f921"
             ]
            ],
            "type": "histogram2dcontour"
           }
          ],
          "mesh3d": [
           {
            "colorbar": {
             "outlinewidth": 0,
             "ticks": ""
            },
            "type": "mesh3d"
           }
          ],
          "parcoords": [
           {
            "line": {
             "colorbar": {
              "outlinewidth": 0,
              "ticks": ""
             }
            },
            "type": "parcoords"
           }
          ],
          "pie": [
           {
            "automargin": true,
            "type": "pie"
           }
          ],
          "scatter": [
           {
            "fillpattern": {
             "fillmode": "overlay",
             "size": 10,
             "solidity": 0.2
            },
            "type": "scatter"
           }
          ],
          "scatter3d": [
           {
            "line": {
             "colorbar": {
              "outlinewidth": 0,
              "ticks": ""
             }
            },
            "marker": {
             "colorbar": {
              "outlinewidth": 0,
              "ticks": ""
             }
            },
            "type": "scatter3d"
           }
          ],
          "scattercarpet": [
           {
            "marker": {
             "colorbar": {
              "outlinewidth": 0,
              "ticks": ""
             }
            },
            "type": "scattercarpet"
           }
          ],
          "scattergeo": [
           {
            "marker": {
             "colorbar": {
              "outlinewidth": 0,
              "ticks": ""
             }
            },
            "type": "scattergeo"
           }
          ],
          "scattergl": [
           {
            "marker": {
             "colorbar": {
              "outlinewidth": 0,
              "ticks": ""
             }
            },
            "type": "scattergl"
           }
          ],
          "scattermapbox": [
           {
            "marker": {
             "colorbar": {
              "outlinewidth": 0,
              "ticks": ""
             }
            },
            "type": "scattermapbox"
           }
          ],
          "scatterpolar": [
           {
            "marker": {
             "colorbar": {
              "outlinewidth": 0,
              "ticks": ""
             }
            },
            "type": "scatterpolar"
           }
          ],
          "scatterpolargl": [
           {
            "marker": {
             "colorbar": {
              "outlinewidth": 0,
              "ticks": ""
             }
            },
            "type": "scatterpolargl"
           }
          ],
          "scatterternary": [
           {
            "marker": {
             "colorbar": {
              "outlinewidth": 0,
              "ticks": ""
             }
            },
            "type": "scatterternary"
           }
          ],
          "surface": [
           {
            "colorbar": {
             "outlinewidth": 0,
             "ticks": ""
            },
            "colorscale": [
             [
              0,
              "#0d0887"
             ],
             [
              0.1111111111111111,
              "#46039f"
             ],
             [
              0.2222222222222222,
              "#7201a8"
             ],
             [
              0.3333333333333333,
              "#9c179e"
             ],
             [
              0.4444444444444444,
              "#bd3786"
             ],
             [
              0.5555555555555556,
              "#d8576b"
             ],
             [
              0.6666666666666666,
              "#ed7953"
             ],
             [
              0.7777777777777778,
              "#fb9f3a"
             ],
             [
              0.8888888888888888,
              "#fdca26"
             ],
             [
              1,
              "#f0f921"
             ]
            ],
            "type": "surface"
           }
          ],
          "table": [
           {
            "cells": {
             "fill": {
              "color": "#EBF0F8"
             },
             "line": {
              "color": "white"
             }
            },
            "header": {
             "fill": {
              "color": "#C8D4E3"
             },
             "line": {
              "color": "white"
             }
            },
            "type": "table"
           }
          ]
         },
         "layout": {
          "annotationdefaults": {
           "arrowcolor": "#2a3f5f",
           "arrowhead": 0,
           "arrowwidth": 1
          },
          "autotypenumbers": "strict",
          "coloraxis": {
           "colorbar": {
            "outlinewidth": 0,
            "ticks": ""
           }
          },
          "colorscale": {
           "diverging": [
            [
             0,
             "#8e0152"
            ],
            [
             0.1,
             "#c51b7d"
            ],
            [
             0.2,
             "#de77ae"
            ],
            [
             0.3,
             "#f1b6da"
            ],
            [
             0.4,
             "#fde0ef"
            ],
            [
             0.5,
             "#f7f7f7"
            ],
            [
             0.6,
             "#e6f5d0"
            ],
            [
             0.7,
             "#b8e186"
            ],
            [
             0.8,
             "#7fbc41"
            ],
            [
             0.9,
             "#4d9221"
            ],
            [
             1,
             "#276419"
            ]
           ],
           "sequential": [
            [
             0,
             "#0d0887"
            ],
            [
             0.1111111111111111,
             "#46039f"
            ],
            [
             0.2222222222222222,
             "#7201a8"
            ],
            [
             0.3333333333333333,
             "#9c179e"
            ],
            [
             0.4444444444444444,
             "#bd3786"
            ],
            [
             0.5555555555555556,
             "#d8576b"
            ],
            [
             0.6666666666666666,
             "#ed7953"
            ],
            [
             0.7777777777777778,
             "#fb9f3a"
            ],
            [
             0.8888888888888888,
             "#fdca26"
            ],
            [
             1,
             "#f0f921"
            ]
           ],
           "sequentialminus": [
            [
             0,
             "#0d0887"
            ],
            [
             0.1111111111111111,
             "#46039f"
            ],
            [
             0.2222222222222222,
             "#7201a8"
            ],
            [
             0.3333333333333333,
             "#9c179e"
            ],
            [
             0.4444444444444444,
             "#bd3786"
            ],
            [
             0.5555555555555556,
             "#d8576b"
            ],
            [
             0.6666666666666666,
             "#ed7953"
            ],
            [
             0.7777777777777778,
             "#fb9f3a"
            ],
            [
             0.8888888888888888,
             "#fdca26"
            ],
            [
             1,
             "#f0f921"
            ]
           ]
          },
          "colorway": [
           "#636efa",
           "#EF553B",
           "#00cc96",
           "#ab63fa",
           "#FFA15A",
           "#19d3f3",
           "#FF6692",
           "#B6E880",
           "#FF97FF",
           "#FECB52"
          ],
          "font": {
           "color": "#2a3f5f"
          },
          "geo": {
           "bgcolor": "white",
           "lakecolor": "white",
           "landcolor": "#E5ECF6",
           "showlakes": true,
           "showland": true,
           "subunitcolor": "white"
          },
          "hoverlabel": {
           "align": "left"
          },
          "hovermode": "closest",
          "mapbox": {
           "style": "light"
          },
          "paper_bgcolor": "white",
          "plot_bgcolor": "#E5ECF6",
          "polar": {
           "angularaxis": {
            "gridcolor": "white",
            "linecolor": "white",
            "ticks": ""
           },
           "bgcolor": "#E5ECF6",
           "radialaxis": {
            "gridcolor": "white",
            "linecolor": "white",
            "ticks": ""
           }
          },
          "scene": {
           "xaxis": {
            "backgroundcolor": "#E5ECF6",
            "gridcolor": "white",
            "gridwidth": 2,
            "linecolor": "white",
            "showbackground": true,
            "ticks": "",
            "zerolinecolor": "white"
           },
           "yaxis": {
            "backgroundcolor": "#E5ECF6",
            "gridcolor": "white",
            "gridwidth": 2,
            "linecolor": "white",
            "showbackground": true,
            "ticks": "",
            "zerolinecolor": "white"
           },
           "zaxis": {
            "backgroundcolor": "#E5ECF6",
            "gridcolor": "white",
            "gridwidth": 2,
            "linecolor": "white",
            "showbackground": true,
            "ticks": "",
            "zerolinecolor": "white"
           }
          },
          "shapedefaults": {
           "line": {
            "color": "#2a3f5f"
           }
          },
          "ternary": {
           "aaxis": {
            "gridcolor": "white",
            "linecolor": "white",
            "ticks": ""
           },
           "baxis": {
            "gridcolor": "white",
            "linecolor": "white",
            "ticks": ""
           },
           "bgcolor": "#E5ECF6",
           "caxis": {
            "gridcolor": "white",
            "linecolor": "white",
            "ticks": ""
           }
          },
          "title": {
           "x": 0.05
          },
          "xaxis": {
           "automargin": true,
           "gridcolor": "white",
           "linecolor": "white",
           "ticks": "",
           "title": {
            "standoff": 15
           },
           "zerolinecolor": "white",
           "zerolinewidth": 2
          },
          "yaxis": {
           "automargin": true,
           "gridcolor": "white",
           "linecolor": "white",
           "ticks": "",
           "title": {
            "standoff": 15
           },
           "zerolinecolor": "white",
           "zerolinewidth": 2
          }
         }
        },
        "title": {
         "text": "Feature Importance"
        },
        "xaxis": {
         "anchor": "y",
         "domain": [
          0,
          1
         ],
         "title": {
          "text": "Importance"
         }
        },
        "yaxis": {
         "anchor": "x",
         "domain": [
          0,
          1
         ],
         "title": {
          "text": "Feature"
         }
        }
       }
      }
     },
     "metadata": {},
     "output_type": "display_data"
    }
   ],
   "source": [
    "plot_importance(model, X_train)"
   ]
  },
  {
   "cell_type": "code",
   "execution_count": null,
   "metadata": {},
   "outputs": [
    {
     "data": {
      "application/vnd.plotly.v1+json": {
       "config": {
        "plotlyServerURL": "https://plot.ly"
       },
       "data": [
        {
         "alignmentgroup": "True",
         "hovertemplate": "Importance=%{x}<br>Feature=%{y}<extra></extra>",
         "legendgroup": "",
         "marker": {
          "color": "#10b38f",
          "pattern": {
           "shape": ""
          }
         },
         "name": "",
         "offsetgroup": "",
         "orientation": "h",
         "showlegend": false,
         "textposition": "auto",
         "type": "bar",
         "x": [
          0.0029,
          0.0048,
          0.0049,
          0.0053,
          0.0055,
          0.0103,
          0.0138,
          0.0139,
          0.0146,
          0.0172,
          0.0179,
          0.0221,
          0.0238,
          0.0258,
          0.0271,
          0.0328,
          0.0368,
          0.0376,
          0.0395,
          0.0405,
          0.0534,
          0.0615,
          0.0658,
          0.0703,
          0.0762,
          0.0897,
          0.0903,
          0.0958
         ],
         "xaxis": "x",
         "y": [
          "channel_sales_4",
          "std_price_mid_peak_var",
          "channel_sales_2",
          "channel_sales_1",
          "channel_sales_3",
          "range_price_mid_peak_var",
          "std_price_peak_var",
          "channel_sales_0",
          "std_price_off_peak_var",
          "avg_price_peak_var",
          "avg_price_mid_peak_var",
          "range_price_off_peak_var",
          "range_price_peak_var",
          "yearly_gas_consumption",
          "price_peak_off_peak_ratio_var",
          "avg_price_off_peak_var",
          "tenure_years",
          "months_since_renewed",
          "months_to_end",
          "paid_consumption",
          "months_since_modified",
          "monthly_consumption",
          "net_margin",
          "yearly_forecast_consumption",
          "yearly_forecast_meter_rent",
          "yearly_consumption",
          "net_margin_electricity",
          "net_margin_power"
         ],
         "yaxis": "y"
        }
       ],
       "layout": {
        "barmode": "relative",
        "height": 650,
        "legend": {
         "tracegroupgap": 0
        },
        "margin": {
         "b": 30,
         "t": 40
        },
        "paper_bgcolor": "rgba(0,0,0,0)",
        "plot_bgcolor": "rgba(0,0,0,0)",
        "template": {
         "data": {
          "bar": [
           {
            "error_x": {
             "color": "#2a3f5f"
            },
            "error_y": {
             "color": "#2a3f5f"
            },
            "marker": {
             "line": {
              "color": "#E5ECF6",
              "width": 0.5
             },
             "pattern": {
              "fillmode": "overlay",
              "size": 10,
              "solidity": 0.2
             }
            },
            "type": "bar"
           }
          ],
          "barpolar": [
           {
            "marker": {
             "line": {
              "color": "#E5ECF6",
              "width": 0.5
             },
             "pattern": {
              "fillmode": "overlay",
              "size": 10,
              "solidity": 0.2
             }
            },
            "type": "barpolar"
           }
          ],
          "carpet": [
           {
            "aaxis": {
             "endlinecolor": "#2a3f5f",
             "gridcolor": "white",
             "linecolor": "white",
             "minorgridcolor": "white",
             "startlinecolor": "#2a3f5f"
            },
            "baxis": {
             "endlinecolor": "#2a3f5f",
             "gridcolor": "white",
             "linecolor": "white",
             "minorgridcolor": "white",
             "startlinecolor": "#2a3f5f"
            },
            "type": "carpet"
           }
          ],
          "choropleth": [
           {
            "colorbar": {
             "outlinewidth": 0,
             "ticks": ""
            },
            "type": "choropleth"
           }
          ],
          "contour": [
           {
            "colorbar": {
             "outlinewidth": 0,
             "ticks": ""
            },
            "colorscale": [
             [
              0,
              "#0d0887"
             ],
             [
              0.1111111111111111,
              "#46039f"
             ],
             [
              0.2222222222222222,
              "#7201a8"
             ],
             [
              0.3333333333333333,
              "#9c179e"
             ],
             [
              0.4444444444444444,
              "#bd3786"
             ],
             [
              0.5555555555555556,
              "#d8576b"
             ],
             [
              0.6666666666666666,
              "#ed7953"
             ],
             [
              0.7777777777777778,
              "#fb9f3a"
             ],
             [
              0.8888888888888888,
              "#fdca26"
             ],
             [
              1,
              "#f0f921"
             ]
            ],
            "type": "contour"
           }
          ],
          "contourcarpet": [
           {
            "colorbar": {
             "outlinewidth": 0,
             "ticks": ""
            },
            "type": "contourcarpet"
           }
          ],
          "heatmap": [
           {
            "colorbar": {
             "outlinewidth": 0,
             "ticks": ""
            },
            "colorscale": [
             [
              0,
              "#0d0887"
             ],
             [
              0.1111111111111111,
              "#46039f"
             ],
             [
              0.2222222222222222,
              "#7201a8"
             ],
             [
              0.3333333333333333,
              "#9c179e"
             ],
             [
              0.4444444444444444,
              "#bd3786"
             ],
             [
              0.5555555555555556,
              "#d8576b"
             ],
             [
              0.6666666666666666,
              "#ed7953"
             ],
             [
              0.7777777777777778,
              "#fb9f3a"
             ],
             [
              0.8888888888888888,
              "#fdca26"
             ],
             [
              1,
              "#f0f921"
             ]
            ],
            "type": "heatmap"
           }
          ],
          "heatmapgl": [
           {
            "colorbar": {
             "outlinewidth": 0,
             "ticks": ""
            },
            "colorscale": [
             [
              0,
              "#0d0887"
             ],
             [
              0.1111111111111111,
              "#46039f"
             ],
             [
              0.2222222222222222,
              "#7201a8"
             ],
             [
              0.3333333333333333,
              "#9c179e"
             ],
             [
              0.4444444444444444,
              "#bd3786"
             ],
             [
              0.5555555555555556,
              "#d8576b"
             ],
             [
              0.6666666666666666,
              "#ed7953"
             ],
             [
              0.7777777777777778,
              "#fb9f3a"
             ],
             [
              0.8888888888888888,
              "#fdca26"
             ],
             [
              1,
              "#f0f921"
             ]
            ],
            "type": "heatmapgl"
           }
          ],
          "histogram": [
           {
            "marker": {
             "pattern": {
              "fillmode": "overlay",
              "size": 10,
              "solidity": 0.2
             }
            },
            "type": "histogram"
           }
          ],
          "histogram2d": [
           {
            "colorbar": {
             "outlinewidth": 0,
             "ticks": ""
            },
            "colorscale": [
             [
              0,
              "#0d0887"
             ],
             [
              0.1111111111111111,
              "#46039f"
             ],
             [
              0.2222222222222222,
              "#7201a8"
             ],
             [
              0.3333333333333333,
              "#9c179e"
             ],
             [
              0.4444444444444444,
              "#bd3786"
             ],
             [
              0.5555555555555556,
              "#d8576b"
             ],
             [
              0.6666666666666666,
              "#ed7953"
             ],
             [
              0.7777777777777778,
              "#fb9f3a"
             ],
             [
              0.8888888888888888,
              "#fdca26"
             ],
             [
              1,
              "#f0f921"
             ]
            ],
            "type": "histogram2d"
           }
          ],
          "histogram2dcontour": [
           {
            "colorbar": {
             "outlinewidth": 0,
             "ticks": ""
            },
            "colorscale": [
             [
              0,
              "#0d0887"
             ],
             [
              0.1111111111111111,
              "#46039f"
             ],
             [
              0.2222222222222222,
              "#7201a8"
             ],
             [
              0.3333333333333333,
              "#9c179e"
             ],
             [
              0.4444444444444444,
              "#bd3786"
             ],
             [
              0.5555555555555556,
              "#d8576b"
             ],
             [
              0.6666666666666666,
              "#ed7953"
             ],
             [
              0.7777777777777778,
              "#fb9f3a"
             ],
             [
              0.8888888888888888,
              "#fdca26"
             ],
             [
              1,
              "#f0f921"
             ]
            ],
            "type": "histogram2dcontour"
           }
          ],
          "mesh3d": [
           {
            "colorbar": {
             "outlinewidth": 0,
             "ticks": ""
            },
            "type": "mesh3d"
           }
          ],
          "parcoords": [
           {
            "line": {
             "colorbar": {
              "outlinewidth": 0,
              "ticks": ""
             }
            },
            "type": "parcoords"
           }
          ],
          "pie": [
           {
            "automargin": true,
            "type": "pie"
           }
          ],
          "scatter": [
           {
            "fillpattern": {
             "fillmode": "overlay",
             "size": 10,
             "solidity": 0.2
            },
            "type": "scatter"
           }
          ],
          "scatter3d": [
           {
            "line": {
             "colorbar": {
              "outlinewidth": 0,
              "ticks": ""
             }
            },
            "marker": {
             "colorbar": {
              "outlinewidth": 0,
              "ticks": ""
             }
            },
            "type": "scatter3d"
           }
          ],
          "scattercarpet": [
           {
            "marker": {
             "colorbar": {
              "outlinewidth": 0,
              "ticks": ""
             }
            },
            "type": "scattercarpet"
           }
          ],
          "scattergeo": [
           {
            "marker": {
             "colorbar": {
              "outlinewidth": 0,
              "ticks": ""
             }
            },
            "type": "scattergeo"
           }
          ],
          "scattergl": [
           {
            "marker": {
             "colorbar": {
              "outlinewidth": 0,
              "ticks": ""
             }
            },
            "type": "scattergl"
           }
          ],
          "scattermapbox": [
           {
            "marker": {
             "colorbar": {
              "outlinewidth": 0,
              "ticks": ""
             }
            },
            "type": "scattermapbox"
           }
          ],
          "scatterpolar": [
           {
            "marker": {
             "colorbar": {
              "outlinewidth": 0,
              "ticks": ""
             }
            },
            "type": "scatterpolar"
           }
          ],
          "scatterpolargl": [
           {
            "marker": {
             "colorbar": {
              "outlinewidth": 0,
              "ticks": ""
             }
            },
            "type": "scatterpolargl"
           }
          ],
          "scatterternary": [
           {
            "marker": {
             "colorbar": {
              "outlinewidth": 0,
              "ticks": ""
             }
            },
            "type": "scatterternary"
           }
          ],
          "surface": [
           {
            "colorbar": {
             "outlinewidth": 0,
             "ticks": ""
            },
            "colorscale": [
             [
              0,
              "#0d0887"
             ],
             [
              0.1111111111111111,
              "#46039f"
             ],
             [
              0.2222222222222222,
              "#7201a8"
             ],
             [
              0.3333333333333333,
              "#9c179e"
             ],
             [
              0.4444444444444444,
              "#bd3786"
             ],
             [
              0.5555555555555556,
              "#d8576b"
             ],
             [
              0.6666666666666666,
              "#ed7953"
             ],
             [
              0.7777777777777778,
              "#fb9f3a"
             ],
             [
              0.8888888888888888,
              "#fdca26"
             ],
             [
              1,
              "#f0f921"
             ]
            ],
            "type": "surface"
           }
          ],
          "table": [
           {
            "cells": {
             "fill": {
              "color": "#EBF0F8"
             },
             "line": {
              "color": "white"
             }
            },
            "header": {
             "fill": {
              "color": "#C8D4E3"
             },
             "line": {
              "color": "white"
             }
            },
            "type": "table"
           }
          ]
         },
         "layout": {
          "annotationdefaults": {
           "arrowcolor": "#2a3f5f",
           "arrowhead": 0,
           "arrowwidth": 1
          },
          "autotypenumbers": "strict",
          "coloraxis": {
           "colorbar": {
            "outlinewidth": 0,
            "ticks": ""
           }
          },
          "colorscale": {
           "diverging": [
            [
             0,
             "#8e0152"
            ],
            [
             0.1,
             "#c51b7d"
            ],
            [
             0.2,
             "#de77ae"
            ],
            [
             0.3,
             "#f1b6da"
            ],
            [
             0.4,
             "#fde0ef"
            ],
            [
             0.5,
             "#f7f7f7"
            ],
            [
             0.6,
             "#e6f5d0"
            ],
            [
             0.7,
             "#b8e186"
            ],
            [
             0.8,
             "#7fbc41"
            ],
            [
             0.9,
             "#4d9221"
            ],
            [
             1,
             "#276419"
            ]
           ],
           "sequential": [
            [
             0,
             "#0d0887"
            ],
            [
             0.1111111111111111,
             "#46039f"
            ],
            [
             0.2222222222222222,
             "#7201a8"
            ],
            [
             0.3333333333333333,
             "#9c179e"
            ],
            [
             0.4444444444444444,
             "#bd3786"
            ],
            [
             0.5555555555555556,
             "#d8576b"
            ],
            [
             0.6666666666666666,
             "#ed7953"
            ],
            [
             0.7777777777777778,
             "#fb9f3a"
            ],
            [
             0.8888888888888888,
             "#fdca26"
            ],
            [
             1,
             "#f0f921"
            ]
           ],
           "sequentialminus": [
            [
             0,
             "#0d0887"
            ],
            [
             0.1111111111111111,
             "#46039f"
            ],
            [
             0.2222222222222222,
             "#7201a8"
            ],
            [
             0.3333333333333333,
             "#9c179e"
            ],
            [
             0.4444444444444444,
             "#bd3786"
            ],
            [
             0.5555555555555556,
             "#d8576b"
            ],
            [
             0.6666666666666666,
             "#ed7953"
            ],
            [
             0.7777777777777778,
             "#fb9f3a"
            ],
            [
             0.8888888888888888,
             "#fdca26"
            ],
            [
             1,
             "#f0f921"
            ]
           ]
          },
          "colorway": [
           "#636efa",
           "#EF553B",
           "#00cc96",
           "#ab63fa",
           "#FFA15A",
           "#19d3f3",
           "#FF6692",
           "#B6E880",
           "#FF97FF",
           "#FECB52"
          ],
          "font": {
           "color": "#2a3f5f"
          },
          "geo": {
           "bgcolor": "white",
           "lakecolor": "white",
           "landcolor": "#E5ECF6",
           "showlakes": true,
           "showland": true,
           "subunitcolor": "white"
          },
          "hoverlabel": {
           "align": "left"
          },
          "hovermode": "closest",
          "mapbox": {
           "style": "light"
          },
          "paper_bgcolor": "white",
          "plot_bgcolor": "#E5ECF6",
          "polar": {
           "angularaxis": {
            "gridcolor": "white",
            "linecolor": "white",
            "ticks": ""
           },
           "bgcolor": "#E5ECF6",
           "radialaxis": {
            "gridcolor": "white",
            "linecolor": "white",
            "ticks": ""
           }
          },
          "scene": {
           "xaxis": {
            "backgroundcolor": "#E5ECF6",
            "gridcolor": "white",
            "gridwidth": 2,
            "linecolor": "white",
            "showbackground": true,
            "ticks": "",
            "zerolinecolor": "white"
           },
           "yaxis": {
            "backgroundcolor": "#E5ECF6",
            "gridcolor": "white",
            "gridwidth": 2,
            "linecolor": "white",
            "showbackground": true,
            "ticks": "",
            "zerolinecolor": "white"
           },
           "zaxis": {
            "backgroundcolor": "#E5ECF6",
            "gridcolor": "white",
            "gridwidth": 2,
            "linecolor": "white",
            "showbackground": true,
            "ticks": "",
            "zerolinecolor": "white"
           }
          },
          "shapedefaults": {
           "line": {
            "color": "#2a3f5f"
           }
          },
          "ternary": {
           "aaxis": {
            "gridcolor": "white",
            "linecolor": "white",
            "ticks": ""
           },
           "baxis": {
            "gridcolor": "white",
            "linecolor": "white",
            "ticks": ""
           },
           "bgcolor": "#E5ECF6",
           "caxis": {
            "gridcolor": "white",
            "linecolor": "white",
            "ticks": ""
           }
          },
          "title": {
           "x": 0.05
          },
          "xaxis": {
           "automargin": true,
           "gridcolor": "white",
           "linecolor": "white",
           "ticks": "",
           "title": {
            "standoff": 15
           },
           "zerolinecolor": "white",
           "zerolinewidth": 2
          },
          "yaxis": {
           "automargin": true,
           "gridcolor": "white",
           "linecolor": "white",
           "ticks": "",
           "title": {
            "standoff": 15
           },
           "zerolinecolor": "white",
           "zerolinewidth": 2
          }
         }
        },
        "title": {
         "text": "Feature Importance"
        },
        "xaxis": {
         "anchor": "y",
         "domain": [
          0,
          1
         ],
         "title": {
          "text": "Importance"
         }
        },
        "yaxis": {
         "anchor": "x",
         "domain": [
          0,
          1
         ],
         "title": {
          "text": "Feature"
         }
        }
       }
      }
     },
     "metadata": {},
     "output_type": "display_data"
    }
   ],
   "source": [
    "plot_importance(tuned_model, X_train)"
   ]
  },
  {
   "cell_type": "code",
   "execution_count": null,
   "metadata": {},
   "outputs": [],
   "source": []
  }
 ],
 "metadata": {
  "kernelspec": {
   "display_name": ".venv",
   "language": "python",
   "name": "python3"
  },
  "language_info": {
   "codemirror_mode": {
    "name": "ipython",
    "version": 3
   },
   "file_extension": ".py",
   "mimetype": "text/x-python",
   "name": "python",
   "nbconvert_exporter": "python",
   "pygments_lexer": "ipython3",
   "version": "3.9.6"
  }
 },
 "nbformat": 4,
 "nbformat_minor": 2
}
